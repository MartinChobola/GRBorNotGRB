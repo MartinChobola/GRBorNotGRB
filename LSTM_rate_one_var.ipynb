{
 "cells": [
  {
   "cell_type": "code",
   "execution_count": 1,
   "metadata": {
    "colab": {
     "base_uri": "https://localhost:8080/"
    },
    "executionInfo": {
     "elapsed": 8883,
     "status": "ok",
     "timestamp": 1677969275021,
     "user": {
      "displayName": "Martin Chobola",
      "userId": "14296412163936900233"
     },
     "user_tz": -60
    },
    "id": "iaeU0RQqk1Rq",
    "outputId": "d115ba35-09fd-4b8c-f1fb-6f03d9749566"
   },
   "outputs": [
    {
     "name": "stderr",
     "output_type": "stream",
     "text": [
      "2023-03-09 17:59:30.091530: I tensorflow/core/platform/cpu_feature_guard.cc:193] This TensorFlow binary is optimized with oneAPI Deep Neural Network Library (oneDNN) to use the following CPU instructions in performance-critical operations:  SSE4.1 SSE4.2 AVX AVX2 FMA\n",
      "To enable them in other operations, rebuild TensorFlow with the appropriate compiler flags.\n"
     ]
    }
   ],
   "source": [
    "import glob\n",
    "import numpy as np\n",
    "import pandas as pd\n",
    "import matplotlib.pyplot as plt\n",
    "\n",
    "import tensorflow as tf\n",
    "from tensorflow.keras.models import Sequential, Model, load_model\n",
    "from tensorflow.keras.layers import *\n",
    "from tensorflow.keras.optimizers import Adam\n",
    "from tensorflow.keras.callbacks import TensorBoard, LambdaCallback, EarlyStopping\n",
    "from tensorflow.keras.metrics import RootMeanSquaredError\n",
    "from tensorflow.keras.losses import MeanSquaredError\n",
    "\n",
    "from sklearn.preprocessing import LabelEncoder\n",
    "from sklearn.model_selection import train_test_split\n",
    "from sklearn.metrics import auc, roc_curve, confusion_matrix"
   ]
  },
  {
   "cell_type": "code",
   "execution_count": 2,
   "metadata": {},
   "outputs": [
    {
     "name": "stdout",
     "output_type": "stream",
     "text": [
      "522 54\n",
      "Number of files: 54\n",
      "Number of points: 463779\n"
     ]
    },
    {
     "data": {
      "text/html": [
       "<div>\n",
       "<style scoped>\n",
       "    .dataframe tbody tr th:only-of-type {\n",
       "        vertical-align: middle;\n",
       "    }\n",
       "\n",
       "    .dataframe tbody tr th {\n",
       "        vertical-align: top;\n",
       "    }\n",
       "\n",
       "    .dataframe thead th {\n",
       "        text-align: right;\n",
       "    }\n",
       "</style>\n",
       "<table border=\"1\" class=\"dataframe\">\n",
       "  <thead>\n",
       "    <tr style=\"text-align: right;\">\n",
       "      <th></th>\n",
       "      <th>log</th>\n",
       "      <th>lat</th>\n",
       "      <th>rate</th>\n",
       "    </tr>\n",
       "  </thead>\n",
       "  <tbody>\n",
       "    <tr>\n",
       "      <th>0</th>\n",
       "      <td>354.1160</td>\n",
       "      <td>48.1902</td>\n",
       "      <td>2.193820</td>\n",
       "    </tr>\n",
       "    <tr>\n",
       "      <th>1</th>\n",
       "      <td>354.0260</td>\n",
       "      <td>47.9446</td>\n",
       "      <td>2.186815</td>\n",
       "    </tr>\n",
       "    <tr>\n",
       "      <th>2</th>\n",
       "      <td>353.9370</td>\n",
       "      <td>47.6989</td>\n",
       "      <td>2.183981</td>\n",
       "    </tr>\n",
       "    <tr>\n",
       "      <th>3</th>\n",
       "      <td>353.8490</td>\n",
       "      <td>47.4532</td>\n",
       "      <td>2.203441</td>\n",
       "    </tr>\n",
       "    <tr>\n",
       "      <th>4</th>\n",
       "      <td>353.7610</td>\n",
       "      <td>47.2074</td>\n",
       "      <td>2.163609</td>\n",
       "    </tr>\n",
       "    <tr>\n",
       "      <th>...</th>\n",
       "      <td>...</td>\n",
       "      <td>...</td>\n",
       "      <td>...</td>\n",
       "    </tr>\n",
       "    <tr>\n",
       "      <th>463774</th>\n",
       "      <td>82.9377</td>\n",
       "      <td>-54.1543</td>\n",
       "      <td>3.013680</td>\n",
       "    </tr>\n",
       "    <tr>\n",
       "      <th>463775</th>\n",
       "      <td>82.9098</td>\n",
       "      <td>-54.2151</td>\n",
       "      <td>2.993877</td>\n",
       "    </tr>\n",
       "    <tr>\n",
       "      <th>463776</th>\n",
       "      <td>82.8819</td>\n",
       "      <td>-54.2759</td>\n",
       "      <td>2.980912</td>\n",
       "    </tr>\n",
       "    <tr>\n",
       "      <th>463777</th>\n",
       "      <td>82.8539</td>\n",
       "      <td>-54.3368</td>\n",
       "      <td>2.984527</td>\n",
       "    </tr>\n",
       "    <tr>\n",
       "      <th>463778</th>\n",
       "      <td>82.8258</td>\n",
       "      <td>-54.3976</td>\n",
       "      <td>2.599883</td>\n",
       "    </tr>\n",
       "  </tbody>\n",
       "</table>\n",
       "<p>463779 rows × 3 columns</p>\n",
       "</div>"
      ],
      "text/plain": [
       "             log      lat      rate\n",
       "0       354.1160  48.1902  2.193820\n",
       "1       354.0260  47.9446  2.186815\n",
       "2       353.9370  47.6989  2.183981\n",
       "3       353.8490  47.4532  2.203441\n",
       "4       353.7610  47.2074  2.163609\n",
       "...          ...      ...       ...\n",
       "463774   82.9377 -54.1543  3.013680\n",
       "463775   82.9098 -54.2151  2.993877\n",
       "463776   82.8819 -54.2759  2.980912\n",
       "463777   82.8539 -54.3368  2.984527\n",
       "463778   82.8258 -54.3976  2.599883\n",
       "\n",
       "[463779 rows x 3 columns]"
      ]
     },
     "execution_count": 2,
     "metadata": {},
     "output_type": "execute_result"
    }
   ],
   "source": [
    "grb = [\"2021-08-07_10-05-18_exp4s_sbin4/ch0/part1/rate_multi_ch.txt\",\n",
    "\"2021-08-22_09-16-56_exp4s_sbin4/ch0/part1/rate_multi_ch.txt\",\n",
    "\"2021-09-09_09-25-05_exp4s_sbin4/ch0/part2/rate_multi_ch.txt\",\n",
    "\"2021-10-18_22-22-36_exp1s_sbin4/ch0/part1/rate_multi_ch.txt\",\n",
    "\"2021-10-18_22-22-36_exp1s_sbin4/ch0/part2/rate_multi_ch.txt\"]\n",
    "\n",
    "uno = glob.glob(\"Data/GRBalpha/Data_firmware_2/*-*-*_*-*-*_exp*s_sbin*/ch0/part*/rate_multi_ch.txt\")\n",
    "dos = glob.glob(\"Data/GRBalpha/Data_firmware_3/*-*-*_*-*-*_exp*s_sbin*/ch0/rate_multi_ch.txt\")\n",
    "data = np.sort(dos)\n",
    "X = []\n",
    "fill = []\n",
    "for fname in data:\n",
    "    if fname in grb:\n",
    "        skip\n",
    "    else:\n",
    "        with open(fname) as file:\n",
    "            fill.append(fname)\n",
    "            lines = file.readlines()\n",
    "            for line in lines[9:]:\n",
    "                split = line[:-1].split()\n",
    "                X.append([float(split[7]),float(split[8]),np.log10(float(split[-1])+1)])\n",
    "                \n",
    "\n",
    "\n",
    "            \n",
    "print(len(uno),len(dos))\n",
    "print(\"Number of files:\",len(data))\n",
    "print(\"Number of points:\",len(X))\n",
    "\n",
    "df = pd.DataFrame(data = X, columns=[\"log\",\"lat\",\"rate\"])\n",
    "df"
   ]
  },
  {
   "cell_type": "code",
   "execution_count": 3,
   "metadata": {
    "colab": {
     "base_uri": "https://localhost:8080/",
     "height": 283
    },
    "executionInfo": {
     "elapsed": 139,
     "status": "ok",
     "timestamp": 1677969295447,
     "user": {
      "displayName": "Martin Chobola",
      "userId": "14296412163936900233"
     },
     "user_tz": -60
    },
    "id": "KEX2vn06tkdU",
    "outputId": "47d78e39-7f37-465f-8bc9-aee8e95d1ceb"
   },
   "outputs": [
    {
     "data": {
      "text/plain": [
       "[<matplotlib.lines.Line2D at 0x7feacae1a850>]"
      ]
     },
     "execution_count": 3,
     "metadata": {},
     "output_type": "execute_result"
    },
    {
     "data": {
      "image/png": "[encoded data removed]",
      "text/plain": [
       "<Figure size 640x480 with 1 Axes>"
      ]
     },
     "metadata": {},
     "output_type": "display_data"
    }
   ],
   "source": [
    "plt.plot(df[\"rate\"][0:5000])"
   ]
  },
  {
   "cell_type": "code",
   "execution_count": 4,
   "metadata": {},
   "outputs": [
    {
     "data": {
      "text/plain": [
       "array([2.19382003, 2.18681512, 2.18398122, ..., 2.98091194, 2.98452731,\n",
       "       2.59988307])"
      ]
     },
     "execution_count": 4,
     "metadata": {},
     "output_type": "execute_result"
    }
   ],
   "source": [
    "df['rate'].to_numpy()"
   ]
  },
  {
   "cell_type": "code",
   "execution_count": 5,
   "metadata": {
    "executionInfo": {
     "elapsed": 104,
     "status": "ok",
     "timestamp": 1677969295460,
     "user": {
      "displayName": "Martin Chobola",
      "userId": "14296412163936900233"
     },
     "user_tz": -60
    },
    "id": "Olev23rpq43u"
   },
   "outputs": [],
   "source": [
    "def df_to_X_y(df, window_size=10):\n",
    "  df_as_np = df.to_numpy()\n",
    "  X,y = [], []\n",
    "  for i in range(len(df_as_np)-window_size):\n",
    "    X.append(df_as_np[i:i+window_size])\n",
    "    y.append(df['rate'][i+window_size])\n",
    "  return np.array(X), np.array(y)"
   ]
  },
  {
   "cell_type": "code",
   "execution_count": 6,
   "metadata": {
    "colab": {
     "base_uri": "https://localhost:8080/"
    },
    "executionInfo": {
     "elapsed": 16787,
     "status": "ok",
     "timestamp": 1677969312149,
     "user": {
      "displayName": "Martin Chobola",
      "userId": "14296412163936900233"
     },
     "user_tz": -60
    },
    "id": "xS9K1KuKtDg0",
    "outputId": "28e104cf-8036-4e8f-bec1-95080eb1460a"
   },
   "outputs": [
    {
     "data": {
      "text/plain": [
       "((463759, 20, 3), (463759,))"
      ]
     },
     "execution_count": 6,
     "metadata": {},
     "output_type": "execute_result"
    }
   ],
   "source": [
    "WINDOW_SIZE = 20\n",
    "X1, y1 = df_to_X_y(df, WINDOW_SIZE)\n",
    "X1.shape, y1.shape"
   ]
  },
  {
   "cell_type": "code",
   "execution_count": 7,
   "metadata": {
    "executionInfo": {
     "elapsed": 62,
     "status": "ok",
     "timestamp": 1677969312172,
     "user": {
      "displayName": "Martin Chobola",
      "userId": "14296412163936900233"
     },
     "user_tz": -60
    },
    "id": "RSPFoo3OtJvl"
   },
   "outputs": [],
   "source": [
    "X_train, y_train, X_test, y_test = X1[0:400000],y1[0:400000],X1[400000:],y1[400000:]"
   ]
  },
  {
   "cell_type": "code",
   "execution_count": 8,
   "metadata": {
    "colab": {
     "base_uri": "https://localhost:8080/"
    },
    "executionInfo": {
     "elapsed": 480,
     "status": "ok",
     "timestamp": 1677969312597,
     "user": {
      "displayName": "Martin Chobola",
      "userId": "14296412163936900233"
     },
     "user_tz": -60
    },
    "id": "mXiO02Bkuybr",
    "outputId": "719e4055-3b22-4a75-e3d3-929195134efa"
   },
   "outputs": [
    {
     "name": "stderr",
     "output_type": "stream",
     "text": [
      "2023-03-09 17:59:50.057295: I tensorflow/core/platform/cpu_feature_guard.cc:193] This TensorFlow binary is optimized with oneAPI Deep Neural Network Library (oneDNN) to use the following CPU instructions in performance-critical operations:  SSE4.1 SSE4.2 AVX AVX2 FMA\n",
      "To enable them in other operations, rebuild TensorFlow with the appropriate compiler flags.\n",
      "2023-03-09 17:59:50.057729: I tensorflow/core/common_runtime/process_util.cc:146] Creating new thread pool with default inter op setting: 2. Tune using inter_op_parallelism_threads for best performance.\n"
     ]
    },
    {
     "name": "stdout",
     "output_type": "stream",
     "text": [
      "Model: \"sequential\"\n",
      "_________________________________________________________________\n",
      " Layer (type)                Output Shape              Param #   \n",
      "=================================================================\n",
      " lstm (LSTM)                 (None, 64)                17408     \n",
      "                                                                 \n",
      " dense (Dense)               (None, 8)                 520       \n",
      "                                                                 \n",
      " dense_1 (Dense)             (None, 1)                 9         \n",
      "                                                                 \n",
      "=================================================================\n",
      "Total params: 17,937\n",
      "Trainable params: 17,937\n",
      "Non-trainable params: 0\n",
      "_________________________________________________________________\n"
     ]
    }
   ],
   "source": [
    "model1 = Sequential()\n",
    "model1.add(InputLayer((WINDOW_SIZE, 3)))\n",
    "model1.add(LSTM(64))\n",
    "model1.add(Dense(8, 'relu'))\n",
    "model1.add(Dense(1, 'linear'))\n",
    "\n",
    "model1.summary()"
   ]
  },
  {
   "cell_type": "code",
   "execution_count": null,
   "metadata": {
    "colab": {
     "base_uri": "https://localhost:8080/"
    },
    "executionInfo": {
     "elapsed": 2486554,
     "status": "ok",
     "timestamp": 1677971799136,
     "user": {
      "displayName": "Martin Chobola",
      "userId": "14296412163936900233"
     },
     "user_tz": -60
    },
    "id": "Yq8QrnKtu2hP",
    "outputId": "0dbb1cf8-cad0-47dd-f098-54d948d696e0"
   },
   "outputs": [
    {
     "name": "stdout",
     "output_type": "stream",
     "text": [
      "Epoch 1/5\n",
      " 8126/12500 [==================>...........] - ETA: 1:51 - loss: 0.1756 - root_mean_squared_error: 0.4191"
     ]
    }
   ],
   "source": [
    "model1.compile(loss=MeanSquaredError(), optimizer=Adam(learning_rate=0.0001), metrics=RootMeanSquaredError())\n",
    "model1.fit(X_train, y_train, validation_data=(X_test, y_test), epochs=5)"
   ]
  },
  {
   "cell_type": "markdown",
   "metadata": {
    "id": "ArG7nfm2OAVe"
   },
   "source": [
    "# GRBalpha (true) detections"
   ]
  },
  {
   "cell_type": "code",
   "execution_count": null,
   "metadata": {
    "colab": {
     "base_uri": "https://localhost:8080/",
     "height": 294
    },
    "executionInfo": {
     "elapsed": 439,
     "status": "ok",
     "timestamp": 1677972363000,
     "user": {
      "displayName": "Martin Chobola",
      "userId": "14296412163936900233"
     },
     "user_tz": -60
    },
    "id": "Hsp9UyHtxWZW",
    "outputId": "c2786468-229b-4578-f833-bb72d6e19c02"
   },
   "outputs": [],
   "source": [
    "X_grb = []\n",
    "\n",
    "\n",
    "uno = glob.glob(\"Data/GRBalpha/Data_firmware_2/*-*-*_*-*-*_exp*s_sbin*/ch0/part*/rate_multi_ch.txt\")\n",
    "for fname in uno:\n",
    "    with open(fname) as file:\n",
    "        lines = file.readlines()\n",
    "        for line in lines[9:]:\n",
    "            print(line)\n",
    "            split = line[:-1].split()\n",
    "            X_grb.append([float(split[7]),float(split[8]),np.log10(float(split[-1])+1)])\n",
    "\n",
    "\n",
    "df_grb = pd.DataFrame(data = X_grb, columns=[\"log\",\"lat\",\"rate\"])\n",
    "df_grb"
   ]
  },
  {
   "cell_type": "code",
   "execution_count": null,
   "metadata": {
    "colab": {
     "base_uri": "https://localhost:8080/",
     "height": 294
    },
    "executionInfo": {
     "elapsed": 439,
     "status": "ok",
     "timestamp": 1677972363000,
     "user": {
      "displayName": "Martin Chobola",
      "userId": "14296412163936900233"
     },
     "user_tz": -60
    },
    "id": "Hsp9UyHtxWZW",
    "outputId": "c2786468-229b-4578-f833-bb72d6e19c02"
   },
   "outputs": [],
   "source": [
    "WINDOW_SIZE = 20\n",
    "X1, y1 = df_to_X_y(df_grb, WINDOW_SIZE)\n",
    "test_predictions = model1.predict(X1).flatten()\n",
    "plt.plot(10**(test_predictions))\n",
    "plt.plot(10**y1)"
   ]
  },
  {
   "cell_type": "code",
   "execution_count": null,
   "metadata": {},
   "outputs": [],
   "source": [
    "plt.plot(10**(test_predictions[4500:5000]))\n",
    "plt.plot(10**y1[4500:5000])"
   ]
  },
  {
   "cell_type": "code",
   "execution_count": null,
   "metadata": {},
   "outputs": [],
   "source": [
    "plt.plot(10**(test_predictions[50000:75000]))\n",
    "plt.plot(10**y1[50000:75000])"
   ]
  },
  {
   "cell_type": "code",
   "execution_count": null,
   "metadata": {},
   "outputs": [],
   "source": [
    "pred = 10**test_predictions\n",
    "truee = \n",
    "plt.plot"
   ]
  },
  {
   "cell_type": "code",
   "execution_count": null,
   "metadata": {},
   "outputs": [],
   "source": [
    "what_time = []\n",
    "with open('Data/GRBalpha/outliers/2022-08-14_21-30-12_exp4.000000s_sbin16/ch0/rate_multi_ch.txt') as file:\n",
    "    lines = file.readlines()\n",
    "    for line in lines[15330:15430]:\n",
    "        split = line[:-1].split()\n",
    "        what_time.append([split[4],split[5]])\n",
    "\n",
    "what_time"
   ]
  },
  {
   "cell_type": "code",
   "execution_count": null,
   "metadata": {},
   "outputs": [],
   "source": []
  }
 ],
 "metadata": {
  "colab": {
   "authorship_tag": "ABX9TyOIr5XYq+Z2oRHmnZLamHFM",
   "provenance": []
  },
  "kernelspec": {
   "display_name": "Python 3 (ipykernel)",
   "language": "python",
   "name": "python3"
  },
  "language_info": {
   "codemirror_mode": {
    "name": "ipython",
    "version": 3
   },
   "file_extension": ".py",
   "mimetype": "text/x-python",
   "name": "python",
   "nbconvert_exporter": "python",
   "pygments_lexer": "ipython3",
   "version": "3.9.16"
  }
 },
 "nbformat": 4,
 "nbformat_minor": 1
}
