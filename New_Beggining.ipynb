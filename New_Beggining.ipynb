{
 "cells": [
  {
   "cell_type": "code",
   "execution_count": 12,
   "id": "3573517e-c872-4ade-ae74-d653c1f17ed3",
   "metadata": {},
   "outputs": [
    {
     "name": "stdout",
     "output_type": "stream",
     "text": [
      "CPU times: user 31.9 s, sys: 1.59 s, total: 33.5 s\n",
      "Wall time: 32.3 s\n"
     ]
    }
   ],
   "source": [
    "import pandas as pd\n",
    "import datetime\n",
    "import math\n",
    "import numpy as np\n",
    "\n",
    "class CoordinateConverter:\n",
    "    def __init__(self, filename):\n",
    "        \"\"\"\n",
    "        Initialize a CoordinateConverter object with the given filename and a fixed epoch date.\n",
    "        \n",
    "        :param filename: The name of the CSV file containing data to be processed.\n",
    "        \"\"\"\n",
    "        self.filename = filename\n",
    "        self.epoch = datetime.datetime(2000, 1, 1)\n",
    "        self.grbs_error = []\n",
    "\n",
    "    def convert_to_xyz(self, longitude, latitude, altitude):\n",
    "        \"\"\"\n",
    "        Convert longitude, latitude, and altitude to Cartesian coordinates (x, y, z).\n",
    "        \n",
    "        :param longitude: The longitude in degrees.\n",
    "        :param latitude: The latitude in degrees.\n",
    "        :param altitude: The altitude in meters.\n",
    "        :return: Tuple of Cartesian coordinates (x, y, z).\n",
    "        \"\"\"\n",
    "        longitude_rad = math.radians(longitude)\n",
    "        latitude_rad = math.radians(latitude)\n",
    "        \n",
    "        x = math.cos(latitude_rad) * math.cos(longitude_rad)\n",
    "        y = math.cos(latitude_rad) * math.sin(longitude_rad)\n",
    "        z = math.sin(latitude_rad)\n",
    "        \n",
    "        return x, y, z\n",
    "\n",
    "    def process_data(self):\n",
    "        \"\"\"\n",
    "        Read, process, and transform data from the CSV file.\n",
    "        \n",
    "        :return: A DataFrame containing processed data with added Cartesian coordinates.\n",
    "        \"\"\"\n",
    "        # Read data from CSV file\n",
    "        df = pd.read_csv(self.filename)\n",
    "        \n",
    "        # Filter rows where exposure(s) is 1\n",
    "        filtered_df = df[df[\"exposure(s)\"].fillna(0) == 1]\n",
    "        \n",
    "        # Drop unnecessary columns\n",
    "        filtered_df = filtered_df.drop(columns=[\"sat\", \"exposure(s)\"])\n",
    "        \n",
    "        # Convert \"direction\" column to binary (1 for \"north-to-south\", 0 for others)\n",
    "        filtered_df[\"direction\"] = filtered_df[\"direction\"].apply(lambda x: 1 if x == \"north-to-south\" else 0)\n",
    "        \n",
    "        # Convert \"time\" column to days since epoch\n",
    "        filtered_df[\"time\"] = pd.to_datetime(filtered_df[\"time\"])\n",
    "        filtered_df[\"time\"] = (filtered_df[\"time\"] - self.epoch).dt.days + (filtered_df[\"time\"] - self.epoch).dt.seconds / (24 * 60 * 60)\n",
    "        filtered_df[\"time\"] = filtered_df[\"time\"] - min(filtered_df[\"time\"])\n",
    "        \n",
    "        # Convert longitude, latitude, and altitude to Cartesian coordinates\n",
    "        xyz_coordinates = filtered_df.apply(lambda row: self.convert_to_xyz(row[\"longitude\"], row[\"latitude\"], row[\"altitude\"]), axis=1)\n",
    "        xyz_df = pd.DataFrame(xyz_coordinates.tolist(), columns=[\"x\", \"y\", \"z\"], index=xyz_coordinates.index)\n",
    "        \n",
    "        # Concatenate Cartesian coordinates with the filtered DataFrame\n",
    "        self.result_df = pd.concat([filtered_df, xyz_df], axis=1)\n",
    "        \n",
    "        return self.result_df\n",
    "    \n",
    "    \n",
    "    \n",
    "    def data_split_GONG(self, list_of_GRB_peak_time):\n",
    "        grbs = []\n",
    "        df = self.process_data().copy()\n",
    "        for value in list_of_GRB_peak_time:\n",
    "            self.grbs_error.append(abs(value - df[\"time\"]))\n",
    "            if min(list(abs(value - df[\"time\"]))) < 0.1:\n",
    "                i = np.argmin(abs(value - df[\"time\"]))\n",
    "                start = max(0, i - (128 + 128))\n",
    "                end = min(len(df[\"time\"]), i + 128)\n",
    "                grbs.append(df.iloc[start:end].to_numpy())\n",
    "                df.drop(df.index[start:end], inplace=True)\n",
    "        return grbs, df\n",
    "\n",
    "    def run_pipeline(self, list_of_GRB_peak_time):\n",
    "        grbs, remaining_data = self.data_split_GONG(list_of_GRB_peak_time)\n",
    "        return grbs, remaining_data\n",
    "    \n",
    "\n",
    "filename = 'all_cubesat_data_newest.csv'\n",
    "converter = CoordinateConverter(filename)\n",
    "list_of_GRB_peak_time = [114.91921875020489,\n",
    " 129.88771018525586,\n",
    " 147.94674768531695,\n",
    " 187.43627245351672,\n",
    " 187.74966655112803,\n",
    " 488.10759710660204,\n",
    " 488.5059300926514,\n",
    " 498.9314782405272,\n",
    " 502.10961004626006,\n",
    " 508.0093171298504,\n",
    " 518.717834490817,\n",
    " 529.9432841436937,\n",
    " 530.7335758102126,\n",
    " 543.053472106345,\n",
    " 547.800332986284,\n",
    " 548.2275435994379,\n",
    " 553.7249170136638,\n",
    " 556.4554271991365,\n",
    " 562.5454549770802,\n",
    " 571.5575516205281,\n",
    " 575.7461495371535,\n",
    " 575.9857468632981,\n",
    " 576.0758231482469,\n",
    " 576.7625504629686,\n",
    " 584.1270097224042,\n",
    " 586.6135028935969,\n",
    " 591.852205092553,\n",
    " 601.0158259258606,\n",
    " 624.2627044213004,\n",
    " 627.5154278934933,\n",
    " 661.4058703705668,\n",
    " 663.6949682869017,\n",
    " 666.6253009261563,\n",
    " 668.1562620485201,\n",
    " 668.233470717445,\n",
    " 679.0737339700572,\n",
    " 689.1082076388411,\n",
    " 690.0697833332233,\n",
    " 692.1556327547878,\n",
    " 693.4455982637592,\n",
    " 696.7549721063115,\n",
    " 705.3836290510371,\n",
    " 713.1214045137167,\n",
    " 732.7726436341181,\n",
    " 747.0471399538219]\n",
    "%time grbs, remaining_data = converter.data_split_GONG(list_of_GRB_peak_time)"
   ]
  },
  {
   "cell_type": "code",
   "execution_count": 3,
   "id": "29962803-3050-427b-b45f-68bd1901ba56",
   "metadata": {},
   "outputs": [
    {
     "data": {
      "text/plain": [
       "2055588"
      ]
     },
     "execution_count": 3,
     "metadata": {},
     "output_type": "execute_result"
    }
   ],
   "source": [
    "len(converter.result_df)"
   ]
  },
  {
   "cell_type": "code",
   "execution_count": 15,
   "id": "b1d7a8a4-d15c-4175-a522-65e5af089165",
   "metadata": {},
   "outputs": [
    {
     "data": {
      "text/plain": [
       "0.32180430567404983"
      ]
     },
     "execution_count": 15,
     "metadata": {},
     "output_type": "execute_result"
    }
   ],
   "source": [
    "min(list(converter.grbs_error[-1]))"
   ]
  },
  {
   "cell_type": "code",
   "execution_count": 14,
   "id": "b47078c2-30b3-4b9d-bd47-33e85c73f120",
   "metadata": {},
   "outputs": [
    {
     "data": {
      "text/plain": [
       "2051748"
      ]
     },
     "execution_count": 14,
     "metadata": {},
     "output_type": "execute_result"
    }
   ],
   "source": [
    "len(remaining_data)"
   ]
  },
  {
   "cell_type": "code",
   "execution_count": 13,
   "id": "38eba5d2-b56e-4d9c-b10e-85f9ab61b40c",
   "metadata": {},
   "outputs": [
    {
     "data": {
      "text/plain": [
       "10"
      ]
     },
     "execution_count": 13,
     "metadata": {},
     "output_type": "execute_result"
    }
   ],
   "source": [
    "len(grbs)"
   ]
  },
  {
   "cell_type": "code",
   "execution_count": null,
   "id": "0d55346f-70cd-41ab-906c-dafc75071df1",
   "metadata": {},
   "outputs": [],
   "source": []
  }
 ],
 "metadata": {
  "kernelspec": {
   "display_name": "Python 3 (ipykernel)",
   "language": "python",
   "name": "python3"
  },
  "language_info": {
   "codemirror_mode": {
    "name": "ipython",
    "version": 3
   },
   "file_extension": ".py",
   "mimetype": "text/x-python",
   "name": "python",
   "nbconvert_exporter": "python",
   "pygments_lexer": "ipython3",
   "version": "3.9.16"
  }
 },
 "nbformat": 4,
 "nbformat_minor": 5
}
